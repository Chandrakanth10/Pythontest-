{
 "cells": [
  {
   "cell_type": "markdown",
   "metadata": {},
   "source": [
    "# Arrays"
   ]
  },
  {
   "cell_type": "code",
   "execution_count": 1,
   "metadata": {},
   "outputs": [],
   "source": [
    "# An array is a collection of elements/values each identified by an index\n",
    "# Because of the indicies; random access is possible\n",
    "\n",
    "# An array is a data structre which can hold more than one value at a time\n",
    "# It is a collection of ordered series of elements of the same type.\n",
    "# All values in an array has a specified number, which is called as index of an array\n",
    "# Indexing always starts from 0\n",
    "# If the length of the array is 'n' then the length of the array will be 'n-1'\n",
    "# We need to add only specific elements to the arrays orelse 'TypeError will be dispalyed'\n",
    "# The one major difference that differs arrays from lists is, Each array has a position called index\n",
    "\n",
    "# The applications of arrays will be lookup tables/ hashtables , heaps"
   ]
  },
  {
   "cell_type": "code",
   "execution_count": 3,
   "metadata": {},
   "outputs": [],
   "source": [
    "# Python Lists vs Arrays\n",
    "\n",
    "# Arrays can store single type of values, where as list can store various types of values\n",
    "#Arrays can contain only a specified data type, Lists can store the data of any data type"
   ]
  },
  {
   "cell_type": "code",
   "execution_count": 4,
   "metadata": {},
   "outputs": [],
   "source": [
    "#To create arrays in pyton, we beed to import the array module \n",
    "# import array\n",
    "# import array as arr   {the mostly used array importing method}\n",
    "# from array import *   {imports all the components present in the array module}"
   ]
  },
  {
   "cell_type": "code",
   "execution_count": 8,
   "metadata": {},
   "outputs": [],
   "source": [
    "#Method -1\n",
    "\n",
    "# import array\n",
    "# a=array.array('i',[1,2,3,4,5,6])\n",
    "\n",
    "#The first array is the name of the module \n",
    "#The second array is array constructor\n",
    "#The 'i' reffers to the type code; type code - type of the data type that can be inserted into the array\n"
   ]
  },
  {
   "cell_type": "code",
   "execution_count": 12,
   "metadata": {},
   "outputs": [],
   "source": [
    "#Method -2 \n",
    "\n",
    "# import array as arr \n",
    "# Here, the arr is the alias name \n",
    "\n",
    "# a=arr.array('i',[1,2,3,4,5,6])\n",
    "# a"
   ]
  },
  {
   "cell_type": "code",
   "execution_count": 15,
   "metadata": {},
   "outputs": [],
   "source": [
    "#Method -3\n",
    "\n",
    "#from array import *\n",
    "\n",
    "# a=arr.array('i',[1,2,3,4,5,6])\n",
    "# a"
   ]
  },
  {
   "cell_type": "code",
   "execution_count": null,
   "metadata": {},
   "outputs": [],
   "source": [
    "# Insertion and deletion of arrays will be a bit difficult\n",
    "# Insertion of a element at the end of the array will be easy\n",
    "# Insertion will be difficult if we need to add a element at the middle of the array\n",
    "# The insertion of element at the middle of the array will result in moving the elements one step backword\n",
    "# The insertion operation at the middle is not an efficient task as we need to move all the elements\n",
    "# In the worse case, the operation can take Linear Time or O(N) to perform insertion operation\n",
    "\n",
    "# Deletion also causes a similar peoblem as that of the Insertion operation\n",
    "# When we delete an element, we need to move the remaining elements one step forward \n",
    "# Each individual byte of memory can be stored or retrived on O(1) time\n",
    "\n",
    "# Time Complexity \n",
    "# Add a new item :- O(1)\n",
    "# Insert item into a given index:- O(N)\n",
    "# Removing last item:-  O(1)\n",
    "# Removing the middle item:- O(N)\n"
   ]
  },
  {
   "cell_type": "markdown",
   "metadata": {},
   "source": [
    "# Accessing array Elements "
   ]
  },
  {
   "cell_type": "code",
   "execution_count": 18,
   "metadata": {},
   "outputs": [],
   "source": [
    "#To access array elements, we need to access with the help of index of the element \n",
    "#Indexing always starts from 0\n",
    "#Negative indexing can also be used,Negative indexing - the indexing starts from the reverse order of traversal.\n",
    "#By using negative indexing, we can access the array elements from the end "
   ]
  },
  {
   "cell_type": "code",
   "execution_count": 19,
   "metadata": {},
   "outputs": [],
   "source": [
    "import array as arr"
   ]
  },
  {
   "cell_type": "code",
   "execution_count": 20,
   "metadata": {},
   "outputs": [
    {
     "data": {
      "text/plain": [
       "array('i', [1, 2, 3, 4, 5, 6])"
      ]
     },
     "execution_count": 20,
     "metadata": {},
     "output_type": "execute_result"
    }
   ],
   "source": [
    "a=arr.array('i',[1,2,3,4,5,6])\n",
    "a"
   ]
  },
  {
   "cell_type": "code",
   "execution_count": 21,
   "metadata": {},
   "outputs": [
    {
     "data": {
      "text/plain": [
       "3"
      ]
     },
     "execution_count": 21,
     "metadata": {},
     "output_type": "execute_result"
    }
   ],
   "source": [
    "a[2]"
   ]
  },
  {
   "cell_type": "code",
   "execution_count": 22,
   "metadata": {},
   "outputs": [
    {
     "data": {
      "text/plain": [
       "5"
      ]
     },
     "execution_count": 22,
     "metadata": {},
     "output_type": "execute_result"
    }
   ],
   "source": [
    "a[-2]"
   ]
  },
  {
   "cell_type": "markdown",
   "metadata": {},
   "source": [
    "# Basic array Operations"
   ]
  },
  {
   "cell_type": "code",
   "execution_count": 24,
   "metadata": {},
   "outputs": [],
   "source": [
    "#Arrays are mutable; mutable - which means they can be changable\n",
    "\n",
    "#Some of the Basic operations in the Arrays are \n",
    "#Finding the length of an array\n",
    "#Adding/ Changing element of an array\n",
    "#Removing/ Deleting elements of an array\n",
    "#Array Concatenation\n",
    "#Slicing\n",
    "#Looping through an array "
   ]
  },
  {
   "cell_type": "markdown",
   "metadata": {},
   "source": [
    "# Finding length of an array"
   ]
  },
  {
   "cell_type": "code",
   "execution_count": 25,
   "metadata": {},
   "outputs": [
    {
     "data": {
      "text/plain": [
       "6"
      ]
     },
     "execution_count": 25,
     "metadata": {},
     "output_type": "execute_result"
    }
   ],
   "source": [
    "#TO find the length of an array, we can use the len() function to achive this.\n",
    "#The len() function returns an integer value that is equal to number of elements present in that array\n",
    "#The len() function takes only one input parameter, i.e the name of the array\n",
    "\n",
    "len(a)"
   ]
  },
  {
   "cell_type": "markdown",
   "metadata": {},
   "source": [
    "# Adding elements to the array"
   ]
  },
  {
   "cell_type": "code",
   "execution_count": 28,
   "metadata": {},
   "outputs": [],
   "source": [
    "#There are three methods to add elements to an arrary:\n",
    "#1.append():- used when we want to add a single element to the array\n",
    "#2.extend():- used to add when we want to add more than one element to the array at the end\n",
    "#3.insert():- Used when we want to add an element at a specific position of the array\n",
    "\n",
    "#When we use the extend function, we need to specify the values in the square brackets "
   ]
  },
  {
   "cell_type": "code",
   "execution_count": 29,
   "metadata": {},
   "outputs": [
    {
     "data": {
      "text/plain": [
       "array('i', [1, 2, 3, 4, 5, 6])"
      ]
     },
     "execution_count": 29,
     "metadata": {},
     "output_type": "execute_result"
    }
   ],
   "source": [
    "a"
   ]
  },
  {
   "cell_type": "code",
   "execution_count": 30,
   "metadata": {},
   "outputs": [],
   "source": [
    "a.append(8)"
   ]
  },
  {
   "cell_type": "code",
   "execution_count": 31,
   "metadata": {},
   "outputs": [
    {
     "data": {
      "text/plain": [
       "array('i', [1, 2, 3, 4, 5, 6, 8])"
      ]
     },
     "execution_count": 31,
     "metadata": {},
     "output_type": "execute_result"
    }
   ],
   "source": [
    "a"
   ]
  },
  {
   "cell_type": "code",
   "execution_count": 33,
   "metadata": {},
   "outputs": [],
   "source": [
    "a.extend([9,34,53])"
   ]
  },
  {
   "cell_type": "code",
   "execution_count": 34,
   "metadata": {},
   "outputs": [
    {
     "data": {
      "text/plain": [
       "array('i', [1, 2, 3, 4, 5, 6, 8, 9, 34, 53])"
      ]
     },
     "execution_count": 34,
     "metadata": {},
     "output_type": "execute_result"
    }
   ],
   "source": [
    "a"
   ]
  },
  {
   "cell_type": "code",
   "execution_count": 35,
   "metadata": {},
   "outputs": [
    {
     "data": {
      "text/plain": [
       "array('i', [1, 6, 2, 3, 4, 5, 6, 8, 9, 34, 53])"
      ]
     },
     "execution_count": 35,
     "metadata": {},
     "output_type": "execute_result"
    }
   ],
   "source": [
    "a.insert(1,6)\n",
    "a\n",
    "\n",
    "#in the index function, the first value will be the array index where the value should be added \n",
    "#The second value will be the data that should be added to the array"
   ]
  },
  {
   "cell_type": "markdown",
   "metadata": {},
   "source": [
    "# Removing elements of an Array"
   ]
  },
  {
   "cell_type": "code",
   "execution_count": 36,
   "metadata": {},
   "outputs": [],
   "source": [
    "# TO temove the elements of the array, we can use two methods:\n",
    "#1. pop() :- used when we want to remove an element and to return it\n",
    "#2. remove() :- Used when we want to remove an element with a specific value without returnng it \n",
    "\n",
    "#The pop() function can take no parameters or only one parameter.\n",
    "#The parameter pop() function can take is the index of the element\n",
    "#If we dont specify any parameter, the pop() function returns the last element in the array\n",
    "\n",
    "#The remove() function takes only one parameter that is the element that is to be removed"
   ]
  },
  {
   "cell_type": "code",
   "execution_count": 42,
   "metadata": {},
   "outputs": [
    {
     "data": {
      "text/plain": [
       "array('i', [1, 6, 2, 3, 4, 5, 6, 34])"
      ]
     },
     "execution_count": 42,
     "metadata": {},
     "output_type": "execute_result"
    }
   ],
   "source": [
    "a"
   ]
  },
  {
   "cell_type": "code",
   "execution_count": 43,
   "metadata": {},
   "outputs": [
    {
     "data": {
      "text/plain": [
       "34"
      ]
     },
     "execution_count": 43,
     "metadata": {},
     "output_type": "execute_result"
    }
   ],
   "source": [
    "a.pop()"
   ]
  },
  {
   "cell_type": "code",
   "execution_count": 44,
   "metadata": {},
   "outputs": [
    {
     "data": {
      "text/plain": [
       "array('i', [1, 6, 2, 3, 4, 5, 6])"
      ]
     },
     "execution_count": 44,
     "metadata": {},
     "output_type": "execute_result"
    }
   ],
   "source": [
    "a"
   ]
  },
  {
   "cell_type": "code",
   "execution_count": 45,
   "metadata": {},
   "outputs": [
    {
     "data": {
      "text/plain": [
       "5"
      ]
     },
     "execution_count": 45,
     "metadata": {},
     "output_type": "execute_result"
    }
   ],
   "source": [
    "a.pop(-2)"
   ]
  },
  {
   "cell_type": "code",
   "execution_count": 46,
   "metadata": {},
   "outputs": [
    {
     "data": {
      "text/plain": [
       "array('i', [1, 6, 2, 3, 4, 6])"
      ]
     },
     "execution_count": 46,
     "metadata": {},
     "output_type": "execute_result"
    }
   ],
   "source": [
    "a"
   ]
  },
  {
   "cell_type": "code",
   "execution_count": 47,
   "metadata": {},
   "outputs": [],
   "source": [
    "a.remove(6)   #Here in this case, the 1st occurance of '6' will be removed"
   ]
  },
  {
   "cell_type": "code",
   "execution_count": 48,
   "metadata": {},
   "outputs": [
    {
     "data": {
      "text/plain": [
       "array('i', [1, 2, 3, 4, 6])"
      ]
     },
     "execution_count": 48,
     "metadata": {},
     "output_type": "execute_result"
    }
   ],
   "source": [
    "a"
   ]
  },
  {
   "cell_type": "markdown",
   "metadata": {},
   "source": [
    "# Array Concatination"
   ]
  },
  {
   "cell_type": "code",
   "execution_count": 49,
   "metadata": {},
   "outputs": [],
   "source": [
    "#concatination means joining\n",
    "#Array concatination can be done with \"+\" symbol\n",
    "#One rule is that both the arrays should have the same type code \n",
    "# When we try to concatenate of different data types, we get TypeError"
   ]
  },
  {
   "cell_type": "code",
   "execution_count": 51,
   "metadata": {},
   "outputs": [
    {
     "data": {
      "text/plain": [
       "array('i', [1, 2, 3, 4, 5, 6, 7, 23, 25, 26, 27])"
      ]
     },
     "execution_count": 51,
     "metadata": {},
     "output_type": "execute_result"
    }
   ],
   "source": [
    "b=arr.array('i',[1,2,3,4,5,6,7])\n",
    "c=arr.array('i',[23,25,26,27])\n",
    "d=arr.array('i')\n",
    "d=b+c\n",
    "d"
   ]
  },
  {
   "cell_type": "markdown",
   "metadata": {},
   "source": [
    "# Slicing an Array"
   ]
  },
  {
   "cell_type": "code",
   "execution_count": 52,
   "metadata": {},
   "outputs": [],
   "source": [
    "#Slicing actually means, fetching particulat values into the array in a certain range\n",
    "#An array can be sliced using the : symbol\n",
    "#This returns the range of elements that we have specified by the index numbers\n",
    "#Slicing an array only returns the values, but dosent remove the values from the array"
   ]
  },
  {
   "cell_type": "code",
   "execution_count": 53,
   "metadata": {},
   "outputs": [
    {
     "data": {
      "text/plain": [
       "array('i', [1, 2, 3, 4, 5, 6, 7, 23, 25, 26, 27])"
      ]
     },
     "execution_count": 53,
     "metadata": {},
     "output_type": "execute_result"
    }
   ],
   "source": [
    "d"
   ]
  },
  {
   "cell_type": "code",
   "execution_count": 54,
   "metadata": {},
   "outputs": [
    {
     "data": {
      "text/plain": [
       "array('i', [1, 2, 3, 4, 5])"
      ]
     },
     "execution_count": 54,
     "metadata": {},
     "output_type": "execute_result"
    }
   ],
   "source": [
    "d[0:5]\n",
    "#Here the index starts from index 0 and then goes till 5. Dosent include the value at index position 5"
   ]
  },
  {
   "cell_type": "code",
   "execution_count": 55,
   "metadata": {},
   "outputs": [
    {
     "data": {
      "text/plain": [
       "array('i', [1, 2, 3, 4, 5, 6, 7, 23, 25, 26, 27])"
      ]
     },
     "execution_count": 55,
     "metadata": {},
     "output_type": "execute_result"
    }
   ],
   "source": [
    "d"
   ]
  },
  {
   "cell_type": "code",
   "execution_count": 56,
   "metadata": {},
   "outputs": [
    {
     "data": {
      "text/plain": [
       "array('i', [1, 2, 3, 4, 5, 6, 7, 23, 25])"
      ]
     },
     "execution_count": 56,
     "metadata": {},
     "output_type": "execute_result"
    }
   ],
   "source": [
    "d[0:-2]"
   ]
  },
  {
   "cell_type": "code",
   "execution_count": 57,
   "metadata": {},
   "outputs": [
    {
     "data": {
      "text/plain": [
       "array('i', [1, 2, 3, 4, 5, 6, 7, 23])"
      ]
     },
     "execution_count": 57,
     "metadata": {},
     "output_type": "execute_result"
    }
   ],
   "source": [
    "d[0:-3]"
   ]
  },
  {
   "cell_type": "code",
   "execution_count": 58,
   "metadata": {},
   "outputs": [
    {
     "data": {
      "text/plain": [
       "array('i', [27, 26, 25, 23, 7, 6, 5, 4, 3, 2, 1])"
      ]
     },
     "execution_count": 58,
     "metadata": {},
     "output_type": "execute_result"
    }
   ],
   "source": [
    "d[::-1]"
   ]
  },
  {
   "cell_type": "code",
   "execution_count": 59,
   "metadata": {},
   "outputs": [
    {
     "data": {
      "text/plain": [
       "array('i', [1, 2, 3, 4, 5, 6, 7, 23, 25, 26, 27])"
      ]
     },
     "execution_count": 59,
     "metadata": {},
     "output_type": "execute_result"
    }
   ],
   "source": [
    "d"
   ]
  },
  {
   "cell_type": "code",
   "execution_count": 60,
   "metadata": {},
   "outputs": [],
   "source": [
    "#[::-1] - reprints the reversed copy of the array, dosent reverse the array\n",
    "#This method is not preffered, because it exhausts the memory "
   ]
  },
  {
   "cell_type": "markdown",
   "metadata": {},
   "source": [
    "# Looping through an array"
   ]
  },
  {
   "cell_type": "code",
   "execution_count": 63,
   "metadata": {},
   "outputs": [],
   "source": [
    "#There are two type of loops:\n",
    "# 1. for :- for loop iterates over the items of an array specified number of times \n",
    "# 2. while :- While loop iterates over the elements until a certain condition is met \n",
    "\n",
    "# 3 conditions to use while loop\n",
    "# 1:- initialise the iterator\n",
    "# 2:- Specify a condition\n",
    "# 3:- increment the iterator\n",
    "\n",
    "#If we dont increment the iterator, the while loop will go on for - ever"
   ]
  },
  {
   "cell_type": "code",
   "execution_count": 64,
   "metadata": {},
   "outputs": [
    {
     "data": {
      "text/plain": [
       "array('i', [1, 2, 3, 4, 5, 6, 7, 23, 25, 26, 27])"
      ]
     },
     "execution_count": 64,
     "metadata": {},
     "output_type": "execute_result"
    }
   ],
   "source": [
    "d"
   ]
  },
  {
   "cell_type": "code",
   "execution_count": 65,
   "metadata": {},
   "outputs": [
    {
     "name": "stdout",
     "output_type": "stream",
     "text": [
      "1\n",
      "2\n",
      "3\n",
      "4\n",
      "5\n",
      "6\n",
      "7\n",
      "23\n",
      "25\n",
      "26\n",
      "27\n"
     ]
    }
   ],
   "source": [
    "for x in d:\n",
    "    print(x)"
   ]
  },
  {
   "cell_type": "code",
   "execution_count": 66,
   "metadata": {},
   "outputs": [
    {
     "name": "stdout",
     "output_type": "stream",
     "text": [
      "1\n",
      "2\n",
      "3\n",
      "4\n",
      "5\n"
     ]
    }
   ],
   "source": [
    "for x in d[0:5]:\n",
    "    print(x)"
   ]
  },
  {
   "cell_type": "code",
   "execution_count": 67,
   "metadata": {},
   "outputs": [
    {
     "data": {
      "text/plain": [
       "array('i', [1, 2, 3, 4, 5, 6, 7, 23, 25, 26, 27])"
      ]
     },
     "execution_count": 67,
     "metadata": {},
     "output_type": "execute_result"
    }
   ],
   "source": [
    "d"
   ]
  },
  {
   "cell_type": "code",
   "execution_count": 68,
   "metadata": {},
   "outputs": [
    {
     "name": "stdout",
     "output_type": "stream",
     "text": [
      "1\n",
      "2\n",
      "3\n"
     ]
    }
   ],
   "source": [
    "#Here the iterator is named as temp; we can use any name we want\n",
    "\n",
    "temp = 0\n",
    "while temp<d[2]:\n",
    "    print(d[temp])\n",
    "    temp = temp+1"
   ]
  },
  {
   "cell_type": "code",
   "execution_count": 69,
   "metadata": {},
   "outputs": [
    {
     "data": {
      "text/plain": [
       "array('i', [1, 2, 3, 4, 6])"
      ]
     },
     "execution_count": 69,
     "metadata": {},
     "output_type": "execute_result"
    }
   ],
   "source": [
    "a"
   ]
  },
  {
   "cell_type": "code",
   "execution_count": 70,
   "metadata": {},
   "outputs": [
    {
     "name": "stdout",
     "output_type": "stream",
     "text": [
      "1\n",
      "2\n",
      "3\n",
      "4\n",
      "6\n"
     ]
    }
   ],
   "source": [
    "temp=0\n",
    "while temp<len(a):\n",
    "    print(a[temp])\n",
    "    temp +=1"
   ]
  },
  {
   "cell_type": "code",
   "execution_count": null,
   "metadata": {},
   "outputs": [],
   "source": []
  }
 ],
 "metadata": {
  "kernelspec": {
   "display_name": "Python 3",
   "language": "python",
   "name": "python3"
  },
  "language_info": {
   "codemirror_mode": {
    "name": "ipython",
    "version": 3
   },
   "file_extension": ".py",
   "mimetype": "text/x-python",
   "name": "python",
   "nbconvert_exporter": "python",
   "pygments_lexer": "ipython3",
   "version": "3.8.3"
  }
 },
 "nbformat": 4,
 "nbformat_minor": 2
}
